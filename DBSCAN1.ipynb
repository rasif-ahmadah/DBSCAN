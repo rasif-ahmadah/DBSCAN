{
 "cells": [
  {
   "cell_type": "code",
   "execution_count": 35,
   "metadata": {},
   "outputs": [],
   "source": [
    "import numpy as np\n",
    "import matplotlib.pyplot as plt\n",
    "import pandas as pd\n",
    "from math import sqrt\n",
    "from pandas import DataFrame\n",
    "import warnings\n",
    "warnings.filterwarnings('ignore')"
   ]
  },
  {
   "cell_type": "code",
   "execution_count": 36,
   "metadata": {},
   "outputs": [],
   "source": [
    "# membaca data dari data set\n",
    "def Read_Data(filename):\n",
    "    dataset = pd.read_excel(filename)\n",
    "    print('Dataset')\n",
    "    print(dataset)\n",
    "    df = DataFrame(dataset)\n",
    "    # membuat list dari dataset\n",
    "    list_dataset = df.values.tolist()\n",
    "    return list_dataset"
   ]
  },
  {
   "cell_type": "code",
   "execution_count": 37,
   "metadata": {},
   "outputs": [],
   "source": [
    "# fungsi Euclidian Distance untuk menghitung jarak antar data \n",
    "def Euclidian_Distance(data1, data2):\n",
    "    euclid_dist = 0.0\n",
    "    for i in range (len(data1) - 1):\n",
    "        euclid_dist += (data1[i] - data2[i]) ** 2\n",
    "    return sqrt(euclid_dist)"
   ]
  },
  {
   "cell_type": "code",
   "execution_count": 38,
   "metadata": {},
   "outputs": [],
   "source": [
    "# mencari tetangga point P pada dataset dalam batasan epsilon \n",
    "def Neighbors_P(dataset, p, eps):\n",
    "    # inisialisasi awal tetangga point P\n",
    "    neighbors = []\n",
    "    # mengitung jarak point P dengan seluruh dataset\n",
    "    for data in range(len(dataset) - 1):\n",
    "        dist = Euclidian_Distance(dataset[p], dataset[data])\n",
    "        # jika jarak antar point dan data < eps, maka masukkan data dalam neighbors[]\n",
    "        if dist < eps:\n",
    "            neighbors.append(data)\n",
    "    return neighbors"
   ]
  },
  {
   "cell_type": "code",
   "execution_count": 39,
   "metadata": {},
   "outputs": [],
   "source": [
    "# memperluas cluster dari neighbors\n",
    "def Expand_Cluster(dataset, status, p, p_neighbors, cluster, eps, minPts):\n",
    "    # tandai p sebagai cluster\n",
    "    status[p] = cluster\n",
    "    i = 0\n",
    "    # mencari tetangga dari masing-masing p_neighbors\n",
    "    while i < len(p_neighbors):\n",
    "        p_n = p_neighbors[i]\n",
    "        # jika status dari p_n tersebut -1, maka masukkan sebagai cluster\n",
    "        if status[p_n] == -1:\n",
    "            status[p_n] = cluster\n",
    "        # jika status p_n masih 0 (belum ada status), tandai dulu sebagai cluster, lalu cari tetangganya\n",
    "        elif status[p_n] == 0:\n",
    "            status[p_n] = cluster\n",
    "            # mencari tetangga dari p_n\n",
    "            p_n_neighbors = Neighbors_P(dataset, p_n, eps)\n",
    "            # jika jumlah p_n_neighbors memenuhi minPts dan eps, maka tambahkan jumlah p_neighbors awal dengan                       # p_n_neighbors\n",
    "            p_neighbors = p_neighbors + p_n_neighbors\n",
    "        i += 1"
   ]
  },
  {
   "cell_type": "code",
   "execution_count": 40,
   "metadata": {},
   "outputs": [],
   "source": [
    "def DBSCAN(dataset, eps, minPts):\n",
    "    # inisialisasi status tiap point pada dataset\n",
    "    status = [0] * len(dataset)\n",
    "    # inisialisasi cluster\n",
    "    cluster = 0\n",
    "\n",
    "    for p in range(len(dataset)):\n",
    "        # data yang akan diproses adalah data dengan status 0\n",
    "        # jika status pada suatu point != 0, maka cari point selanjutnya\n",
    "        if not (status[p] == 0):\n",
    "            continue\n",
    "        # mencari tetangga point P dalam batas eps\n",
    "        p_neighbors = Neighbors_P(dataset, p, eps)\n",
    "        # mengecek apakah point-point yang masuk dalam neighbors (pada jarak eps) memenuhi minPts\n",
    "        if len(p_neighbors) >= minPts:\n",
    "            cluster += 1\n",
    "            # cari perluasan cluster\n",
    "            Expand_Cluster(dataset, status, p, p_neighbors, cluster, eps, minPts)\n",
    "        else:\n",
    "            # definisikan sebagai outlier\n",
    "            status[p] = -1\n",
    "    return status"
   ]
  },
  {
   "cell_type": "code",
   "execution_count": 41,
   "metadata": {},
   "outputs": [],
   "source": [
    "def run() :\n",
    "    filename = 'dataset.xlsx'\n",
    "    dataset = Read_Data(filename)\n",
    "    print('')\n",
    "    print('List Dataset')\n",
    "    print('')\n",
    "    print(dataset)\n",
    "    print('')\n",
    "\n",
    "    # inisialisasi eps dan minPts\n",
    "    eps = 4.0\n",
    "    minPts = 5\n",
    "    status = DBSCAN(dataset, eps, minPts)\n",
    "    print('Cluster')\n",
    "    print('')\n",
    "    print(status)\n",
    "    print('')\n",
    "\n",
    "    # do ploting\n",
    "    dt = np.matrix(dataset)\n",
    "    x = (dt[:,0]).tolist()\n",
    "    y = (dt[:,1]).tolist()\n",
    "    colors = ['yellow','blue', 'red', 'green']\n",
    "    vectorizer = np.vectorize(lambda x:colors[x % len(colors)])\n",
    "    plt.scatter(x, y, c = vectorizer(status))\n",
    "    plt.show()"
   ]
  },
  {
   "cell_type": "code",
   "execution_count": 42,
   "metadata": {
    "tags": []
   },
   "outputs": [
    {
     "output_type": "stream",
     "name": "stdout",
     "text": "Dataset\n     x   y\n0    2   2\n1    2   3\n2    4   3\n3    1   4\n4    6   4\n5    3   5\n6    4   6\n7    2   8\n8    4   7\n9    5   9\n10   3   9\n11   1  10\n12   3  11\n13   2  12\n14   5  13\n15   3  14\n16   4  15\n17   3  16\n18  14   1\n19  14   3\n20  15   2\n21  16   3\n22  15   4\n23  15   5\n24  15   6\n25  20  11\n26  20  12\n27  21  12\n28  22  12\n\nList Dataset\n\n[[2, 2], [2, 3], [4, 3], [1, 4], [6, 4], [3, 5], [4, 6], [2, 8], [4, 7], [5, 9], [3, 9], [1, 10], [3, 11], [2, 12], [5, 13], [3, 14], [4, 15], [3, 16], [14, 1], [14, 3], [15, 2], [16, 3], [15, 4], [15, 5], [15, 6], [20, 11], [20, 12], [21, 12], [22, 12]]\n\nCluster\n\n[1, 1, 1, 1, 1, 1, 1, 1, 1, 1, 1, 1, 1, 1, 1, 1, 1, 1, 2, 2, 2, 2, 2, 2, 2, -1, -1, -1, -1]\n\n"
    },
    {
     "output_type": "display_data",
     "data": {
      "text/plain": "<Figure size 432x288 with 1 Axes>",
      "image/svg+xml": "<?xml version=\"1.0\" encoding=\"utf-8\" standalone=\"no\"?>\r\n<!DOCTYPE svg PUBLIC \"-//W3C//DTD SVG 1.1//EN\"\r\n  \"http://www.w3.org/Graphics/SVG/1.1/DTD/svg11.dtd\">\r\n<!-- Created with matplotlib (https://matplotlib.org/) -->\r\n<svg height=\"248.518125pt\" version=\"1.1\" viewBox=\"0 0 368.925 248.518125\" width=\"368.925pt\" xmlns=\"http://www.w3.org/2000/svg\" xmlns:xlink=\"http://www.w3.org/1999/xlink\">\r\n <defs>\r\n  <style type=\"text/css\">\r\n*{stroke-linecap:butt;stroke-linejoin:round;}\r\n  </style>\r\n </defs>\r\n <g id=\"figure_1\">\r\n  <g id=\"patch_1\">\r\n   <path d=\"M -0 248.518125 \r\nL 368.925 248.518125 \r\nL 368.925 0 \r\nL -0 0 \r\nz\r\n\" style=\"fill:none;\"/>\r\n  </g>\r\n  <g id=\"axes_1\">\r\n   <g id=\"patch_2\">\r\n    <path d=\"M 26.925 224.64 \r\nL 361.725 224.64 \r\nL 361.725 7.2 \r\nL 26.925 7.2 \r\nz\r\n\" style=\"fill:#ffffff;\"/>\r\n   </g>\r\n   <g id=\"PathCollection_1\">\r\n    <defs>\r\n     <path d=\"M 0 3 \r\nC 0.795609 3 1.55874 2.683901 2.12132 2.12132 \r\nC 2.683901 1.55874 3 0.795609 3 0 \r\nC 3 -0.795609 2.683901 -1.55874 2.12132 -2.12132 \r\nC 1.55874 -2.683901 0.795609 -3 0 -3 \r\nC -0.795609 -3 -1.55874 -2.683901 -2.12132 -2.12132 \r\nC -2.683901 -1.55874 -3 -0.795609 -3 0 \r\nC -3 0.795609 -2.683901 1.55874 -2.12132 2.12132 \r\nC -1.55874 2.683901 -0.795609 3 0 3 \r\nz\r\n\" id=\"C0_0_09d203b9ff\"/>\r\n    </defs>\r\n    <g clip-path=\"url(#pe1fb353f03)\">\r\n     <use style=\"fill:#0000ff;stroke:#0000ff;\" x=\"56.636688\" xlink:href=\"#C0_0_09d203b9ff\" y=\"201.578182\"/>\r\n    </g>\r\n    <g clip-path=\"url(#pe1fb353f03)\">\r\n     <use style=\"fill:#0000ff;stroke:#0000ff;\" x=\"56.636688\" xlink:href=\"#C0_0_09d203b9ff\" y=\"188.4\"/>\r\n    </g>\r\n    <g clip-path=\"url(#pe1fb353f03)\">\r\n     <use style=\"fill:#0000ff;stroke:#0000ff;\" x=\"85.623701\" xlink:href=\"#C0_0_09d203b9ff\" y=\"188.4\"/>\r\n    </g>\r\n    <g clip-path=\"url(#pe1fb353f03)\">\r\n     <use style=\"fill:#0000ff;stroke:#0000ff;\" x=\"42.143182\" xlink:href=\"#C0_0_09d203b9ff\" y=\"175.221818\"/>\r\n    </g>\r\n    <g clip-path=\"url(#pe1fb353f03)\">\r\n     <use style=\"fill:#0000ff;stroke:#0000ff;\" x=\"114.610714\" xlink:href=\"#C0_0_09d203b9ff\" y=\"175.221818\"/>\r\n    </g>\r\n    <g clip-path=\"url(#pe1fb353f03)\">\r\n     <use style=\"fill:#0000ff;stroke:#0000ff;\" x=\"71.130195\" xlink:href=\"#C0_0_09d203b9ff\" y=\"162.043636\"/>\r\n    </g>\r\n    <g clip-path=\"url(#pe1fb353f03)\">\r\n     <use style=\"fill:#0000ff;stroke:#0000ff;\" x=\"85.623701\" xlink:href=\"#C0_0_09d203b9ff\" y=\"148.865455\"/>\r\n    </g>\r\n    <g clip-path=\"url(#pe1fb353f03)\">\r\n     <use style=\"fill:#0000ff;stroke:#0000ff;\" x=\"56.636688\" xlink:href=\"#C0_0_09d203b9ff\" y=\"122.509091\"/>\r\n    </g>\r\n    <g clip-path=\"url(#pe1fb353f03)\">\r\n     <use style=\"fill:#0000ff;stroke:#0000ff;\" x=\"85.623701\" xlink:href=\"#C0_0_09d203b9ff\" y=\"135.687273\"/>\r\n    </g>\r\n    <g clip-path=\"url(#pe1fb353f03)\">\r\n     <use style=\"fill:#0000ff;stroke:#0000ff;\" x=\"100.117208\" xlink:href=\"#C0_0_09d203b9ff\" y=\"109.330909\"/>\r\n    </g>\r\n    <g clip-path=\"url(#pe1fb353f03)\">\r\n     <use style=\"fill:#0000ff;stroke:#0000ff;\" x=\"71.130195\" xlink:href=\"#C0_0_09d203b9ff\" y=\"109.330909\"/>\r\n    </g>\r\n    <g clip-path=\"url(#pe1fb353f03)\">\r\n     <use style=\"fill:#0000ff;stroke:#0000ff;\" x=\"42.143182\" xlink:href=\"#C0_0_09d203b9ff\" y=\"96.152727\"/>\r\n    </g>\r\n    <g clip-path=\"url(#pe1fb353f03)\">\r\n     <use style=\"fill:#0000ff;stroke:#0000ff;\" x=\"71.130195\" xlink:href=\"#C0_0_09d203b9ff\" y=\"82.974545\"/>\r\n    </g>\r\n    <g clip-path=\"url(#pe1fb353f03)\">\r\n     <use style=\"fill:#0000ff;stroke:#0000ff;\" x=\"56.636688\" xlink:href=\"#C0_0_09d203b9ff\" y=\"69.796364\"/>\r\n    </g>\r\n    <g clip-path=\"url(#pe1fb353f03)\">\r\n     <use style=\"fill:#0000ff;stroke:#0000ff;\" x=\"100.117208\" xlink:href=\"#C0_0_09d203b9ff\" y=\"56.618182\"/>\r\n    </g>\r\n    <g clip-path=\"url(#pe1fb353f03)\">\r\n     <use style=\"fill:#0000ff;stroke:#0000ff;\" x=\"71.130195\" xlink:href=\"#C0_0_09d203b9ff\" y=\"43.44\"/>\r\n    </g>\r\n    <g clip-path=\"url(#pe1fb353f03)\">\r\n     <use style=\"fill:#0000ff;stroke:#0000ff;\" x=\"85.623701\" xlink:href=\"#C0_0_09d203b9ff\" y=\"30.261818\"/>\r\n    </g>\r\n    <g clip-path=\"url(#pe1fb353f03)\">\r\n     <use style=\"fill:#0000ff;stroke:#0000ff;\" x=\"71.130195\" xlink:href=\"#C0_0_09d203b9ff\" y=\"17.083636\"/>\r\n    </g>\r\n    <g clip-path=\"url(#pe1fb353f03)\">\r\n     <use style=\"fill:#ff0000;stroke:#ff0000;\" x=\"230.558766\" xlink:href=\"#C0_0_09d203b9ff\" y=\"214.756364\"/>\r\n    </g>\r\n    <g clip-path=\"url(#pe1fb353f03)\">\r\n     <use style=\"fill:#ff0000;stroke:#ff0000;\" x=\"230.558766\" xlink:href=\"#C0_0_09d203b9ff\" y=\"188.4\"/>\r\n    </g>\r\n    <g clip-path=\"url(#pe1fb353f03)\">\r\n     <use style=\"fill:#ff0000;stroke:#ff0000;\" x=\"245.052273\" xlink:href=\"#C0_0_09d203b9ff\" y=\"201.578182\"/>\r\n    </g>\r\n    <g clip-path=\"url(#pe1fb353f03)\">\r\n     <use style=\"fill:#ff0000;stroke:#ff0000;\" x=\"259.545779\" xlink:href=\"#C0_0_09d203b9ff\" y=\"188.4\"/>\r\n    </g>\r\n    <g clip-path=\"url(#pe1fb353f03)\">\r\n     <use style=\"fill:#ff0000;stroke:#ff0000;\" x=\"245.052273\" xlink:href=\"#C0_0_09d203b9ff\" y=\"175.221818\"/>\r\n    </g>\r\n    <g clip-path=\"url(#pe1fb353f03)\">\r\n     <use style=\"fill:#ff0000;stroke:#ff0000;\" x=\"245.052273\" xlink:href=\"#C0_0_09d203b9ff\" y=\"162.043636\"/>\r\n    </g>\r\n    <g clip-path=\"url(#pe1fb353f03)\">\r\n     <use style=\"fill:#ff0000;stroke:#ff0000;\" x=\"245.052273\" xlink:href=\"#C0_0_09d203b9ff\" y=\"148.865455\"/>\r\n    </g>\r\n    <g clip-path=\"url(#pe1fb353f03)\">\r\n     <use style=\"fill:#008000;stroke:#008000;\" x=\"317.519805\" xlink:href=\"#C0_0_09d203b9ff\" y=\"82.974545\"/>\r\n    </g>\r\n    <g clip-path=\"url(#pe1fb353f03)\">\r\n     <use style=\"fill:#008000;stroke:#008000;\" x=\"317.519805\" xlink:href=\"#C0_0_09d203b9ff\" y=\"69.796364\"/>\r\n    </g>\r\n    <g clip-path=\"url(#pe1fb353f03)\">\r\n     <use style=\"fill:#008000;stroke:#008000;\" x=\"332.013312\" xlink:href=\"#C0_0_09d203b9ff\" y=\"69.796364\"/>\r\n    </g>\r\n    <g clip-path=\"url(#pe1fb353f03)\">\r\n     <use style=\"fill:#008000;stroke:#008000;\" x=\"346.506818\" xlink:href=\"#C0_0_09d203b9ff\" y=\"69.796364\"/>\r\n    </g>\r\n   </g>\r\n   <g id=\"matplotlib.axis_1\">\r\n    <g id=\"xtick_1\">\r\n     <g id=\"line2d_1\">\r\n      <defs>\r\n       <path d=\"M 0 0 \r\nL 0 3.5 \r\n\" id=\"mcbb479f862\" style=\"stroke:#000000;stroke-width:0.8;\"/>\r\n      </defs>\r\n      <g>\r\n       <use style=\"stroke:#000000;stroke-width:0.8;\" x=\"27.649675\" xlink:href=\"#mcbb479f862\" y=\"224.64\"/>\r\n      </g>\r\n     </g>\r\n     <g id=\"text_1\">\r\n      <!-- 0 -->\r\n      <defs>\r\n       <path d=\"M 31.78125 66.40625 \r\nQ 24.171875 66.40625 20.328125 58.90625 \r\nQ 16.5 51.421875 16.5 36.375 \r\nQ 16.5 21.390625 20.328125 13.890625 \r\nQ 24.171875 6.390625 31.78125 6.390625 \r\nQ 39.453125 6.390625 43.28125 13.890625 \r\nQ 47.125 21.390625 47.125 36.375 \r\nQ 47.125 51.421875 43.28125 58.90625 \r\nQ 39.453125 66.40625 31.78125 66.40625 \r\nz\r\nM 31.78125 74.21875 \r\nQ 44.046875 74.21875 50.515625 64.515625 \r\nQ 56.984375 54.828125 56.984375 36.375 \r\nQ 56.984375 17.96875 50.515625 8.265625 \r\nQ 44.046875 -1.421875 31.78125 -1.421875 \r\nQ 19.53125 -1.421875 13.0625 8.265625 \r\nQ 6.59375 17.96875 6.59375 36.375 \r\nQ 6.59375 54.828125 13.0625 64.515625 \r\nQ 19.53125 74.21875 31.78125 74.21875 \r\nz\r\n\" id=\"DejaVuSans-48\"/>\r\n      </defs>\r\n      <g transform=\"translate(24.468425 239.238437)scale(0.1 -0.1)\">\r\n       <use xlink:href=\"#DejaVuSans-48\"/>\r\n      </g>\r\n     </g>\r\n    </g>\r\n    <g id=\"xtick_2\">\r\n     <g id=\"line2d_2\">\r\n      <g>\r\n       <use style=\"stroke:#000000;stroke-width:0.8;\" x=\"100.117208\" xlink:href=\"#mcbb479f862\" y=\"224.64\"/>\r\n      </g>\r\n     </g>\r\n     <g id=\"text_2\">\r\n      <!-- 5 -->\r\n      <defs>\r\n       <path d=\"M 10.796875 72.90625 \r\nL 49.515625 72.90625 \r\nL 49.515625 64.59375 \r\nL 19.828125 64.59375 \r\nL 19.828125 46.734375 \r\nQ 21.96875 47.46875 24.109375 47.828125 \r\nQ 26.265625 48.1875 28.421875 48.1875 \r\nQ 40.625 48.1875 47.75 41.5 \r\nQ 54.890625 34.8125 54.890625 23.390625 \r\nQ 54.890625 11.625 47.5625 5.09375 \r\nQ 40.234375 -1.421875 26.90625 -1.421875 \r\nQ 22.3125 -1.421875 17.546875 -0.640625 \r\nQ 12.796875 0.140625 7.71875 1.703125 \r\nL 7.71875 11.625 \r\nQ 12.109375 9.234375 16.796875 8.0625 \r\nQ 21.484375 6.890625 26.703125 6.890625 \r\nQ 35.15625 6.890625 40.078125 11.328125 \r\nQ 45.015625 15.765625 45.015625 23.390625 \r\nQ 45.015625 31 40.078125 35.4375 \r\nQ 35.15625 39.890625 26.703125 39.890625 \r\nQ 22.75 39.890625 18.8125 39.015625 \r\nQ 14.890625 38.140625 10.796875 36.28125 \r\nz\r\n\" id=\"DejaVuSans-53\"/>\r\n      </defs>\r\n      <g transform=\"translate(96.935958 239.238437)scale(0.1 -0.1)\">\r\n       <use xlink:href=\"#DejaVuSans-53\"/>\r\n      </g>\r\n     </g>\r\n    </g>\r\n    <g id=\"xtick_3\">\r\n     <g id=\"line2d_3\">\r\n      <g>\r\n       <use style=\"stroke:#000000;stroke-width:0.8;\" x=\"172.58474\" xlink:href=\"#mcbb479f862\" y=\"224.64\"/>\r\n      </g>\r\n     </g>\r\n     <g id=\"text_3\">\r\n      <!-- 10 -->\r\n      <defs>\r\n       <path d=\"M 12.40625 8.296875 \r\nL 28.515625 8.296875 \r\nL 28.515625 63.921875 \r\nL 10.984375 60.40625 \r\nL 10.984375 69.390625 \r\nL 28.421875 72.90625 \r\nL 38.28125 72.90625 \r\nL 38.28125 8.296875 \r\nL 54.390625 8.296875 \r\nL 54.390625 0 \r\nL 12.40625 0 \r\nz\r\n\" id=\"DejaVuSans-49\"/>\r\n      </defs>\r\n      <g transform=\"translate(166.22224 239.238437)scale(0.1 -0.1)\">\r\n       <use xlink:href=\"#DejaVuSans-49\"/>\r\n       <use x=\"63.623047\" xlink:href=\"#DejaVuSans-48\"/>\r\n      </g>\r\n     </g>\r\n    </g>\r\n    <g id=\"xtick_4\">\r\n     <g id=\"line2d_4\">\r\n      <g>\r\n       <use style=\"stroke:#000000;stroke-width:0.8;\" x=\"245.052273\" xlink:href=\"#mcbb479f862\" y=\"224.64\"/>\r\n      </g>\r\n     </g>\r\n     <g id=\"text_4\">\r\n      <!-- 15 -->\r\n      <g transform=\"translate(238.689773 239.238437)scale(0.1 -0.1)\">\r\n       <use xlink:href=\"#DejaVuSans-49\"/>\r\n       <use x=\"63.623047\" xlink:href=\"#DejaVuSans-53\"/>\r\n      </g>\r\n     </g>\r\n    </g>\r\n    <g id=\"xtick_5\">\r\n     <g id=\"line2d_5\">\r\n      <g>\r\n       <use style=\"stroke:#000000;stroke-width:0.8;\" x=\"317.519805\" xlink:href=\"#mcbb479f862\" y=\"224.64\"/>\r\n      </g>\r\n     </g>\r\n     <g id=\"text_5\">\r\n      <!-- 20 -->\r\n      <defs>\r\n       <path d=\"M 19.1875 8.296875 \r\nL 53.609375 8.296875 \r\nL 53.609375 0 \r\nL 7.328125 0 \r\nL 7.328125 8.296875 \r\nQ 12.9375 14.109375 22.625 23.890625 \r\nQ 32.328125 33.6875 34.8125 36.53125 \r\nQ 39.546875 41.84375 41.421875 45.53125 \r\nQ 43.3125 49.21875 43.3125 52.78125 \r\nQ 43.3125 58.59375 39.234375 62.25 \r\nQ 35.15625 65.921875 28.609375 65.921875 \r\nQ 23.96875 65.921875 18.8125 64.3125 \r\nQ 13.671875 62.703125 7.8125 59.421875 \r\nL 7.8125 69.390625 \r\nQ 13.765625 71.78125 18.9375 73 \r\nQ 24.125 74.21875 28.421875 74.21875 \r\nQ 39.75 74.21875 46.484375 68.546875 \r\nQ 53.21875 62.890625 53.21875 53.421875 \r\nQ 53.21875 48.921875 51.53125 44.890625 \r\nQ 49.859375 40.875 45.40625 35.40625 \r\nQ 44.1875 33.984375 37.640625 27.21875 \r\nQ 31.109375 20.453125 19.1875 8.296875 \r\nz\r\n\" id=\"DejaVuSans-50\"/>\r\n      </defs>\r\n      <g transform=\"translate(311.157305 239.238437)scale(0.1 -0.1)\">\r\n       <use xlink:href=\"#DejaVuSans-50\"/>\r\n       <use x=\"63.623047\" xlink:href=\"#DejaVuSans-48\"/>\r\n      </g>\r\n     </g>\r\n    </g>\r\n   </g>\r\n   <g id=\"matplotlib.axis_2\">\r\n    <g id=\"ytick_1\">\r\n     <g id=\"line2d_6\">\r\n      <defs>\r\n       <path d=\"M 0 0 \r\nL -3.5 0 \r\n\" id=\"m32c8315a62\" style=\"stroke:#000000;stroke-width:0.8;\"/>\r\n      </defs>\r\n      <g>\r\n       <use style=\"stroke:#000000;stroke-width:0.8;\" x=\"26.925\" xlink:href=\"#m32c8315a62\" y=\"201.578182\"/>\r\n      </g>\r\n     </g>\r\n     <g id=\"text_6\">\r\n      <!-- 2 -->\r\n      <g transform=\"translate(13.5625 205.377401)scale(0.1 -0.1)\">\r\n       <use xlink:href=\"#DejaVuSans-50\"/>\r\n      </g>\r\n     </g>\r\n    </g>\r\n    <g id=\"ytick_2\">\r\n     <g id=\"line2d_7\">\r\n      <g>\r\n       <use style=\"stroke:#000000;stroke-width:0.8;\" x=\"26.925\" xlink:href=\"#m32c8315a62\" y=\"175.221818\"/>\r\n      </g>\r\n     </g>\r\n     <g id=\"text_7\">\r\n      <!-- 4 -->\r\n      <defs>\r\n       <path d=\"M 37.796875 64.3125 \r\nL 12.890625 25.390625 \r\nL 37.796875 25.390625 \r\nz\r\nM 35.203125 72.90625 \r\nL 47.609375 72.90625 \r\nL 47.609375 25.390625 \r\nL 58.015625 25.390625 \r\nL 58.015625 17.1875 \r\nL 47.609375 17.1875 \r\nL 47.609375 0 \r\nL 37.796875 0 \r\nL 37.796875 17.1875 \r\nL 4.890625 17.1875 \r\nL 4.890625 26.703125 \r\nz\r\n\" id=\"DejaVuSans-52\"/>\r\n      </defs>\r\n      <g transform=\"translate(13.5625 179.021037)scale(0.1 -0.1)\">\r\n       <use xlink:href=\"#DejaVuSans-52\"/>\r\n      </g>\r\n     </g>\r\n    </g>\r\n    <g id=\"ytick_3\">\r\n     <g id=\"line2d_8\">\r\n      <g>\r\n       <use style=\"stroke:#000000;stroke-width:0.8;\" x=\"26.925\" xlink:href=\"#m32c8315a62\" y=\"148.865455\"/>\r\n      </g>\r\n     </g>\r\n     <g id=\"text_8\">\r\n      <!-- 6 -->\r\n      <defs>\r\n       <path d=\"M 33.015625 40.375 \r\nQ 26.375 40.375 22.484375 35.828125 \r\nQ 18.609375 31.296875 18.609375 23.390625 \r\nQ 18.609375 15.53125 22.484375 10.953125 \r\nQ 26.375 6.390625 33.015625 6.390625 \r\nQ 39.65625 6.390625 43.53125 10.953125 \r\nQ 47.40625 15.53125 47.40625 23.390625 \r\nQ 47.40625 31.296875 43.53125 35.828125 \r\nQ 39.65625 40.375 33.015625 40.375 \r\nz\r\nM 52.59375 71.296875 \r\nL 52.59375 62.3125 \r\nQ 48.875 64.0625 45.09375 64.984375 \r\nQ 41.3125 65.921875 37.59375 65.921875 \r\nQ 27.828125 65.921875 22.671875 59.328125 \r\nQ 17.53125 52.734375 16.796875 39.40625 \r\nQ 19.671875 43.65625 24.015625 45.921875 \r\nQ 28.375 48.1875 33.59375 48.1875 \r\nQ 44.578125 48.1875 50.953125 41.515625 \r\nQ 57.328125 34.859375 57.328125 23.390625 \r\nQ 57.328125 12.15625 50.6875 5.359375 \r\nQ 44.046875 -1.421875 33.015625 -1.421875 \r\nQ 20.359375 -1.421875 13.671875 8.265625 \r\nQ 6.984375 17.96875 6.984375 36.375 \r\nQ 6.984375 53.65625 15.1875 63.9375 \r\nQ 23.390625 74.21875 37.203125 74.21875 \r\nQ 40.921875 74.21875 44.703125 73.484375 \r\nQ 48.484375 72.75 52.59375 71.296875 \r\nz\r\n\" id=\"DejaVuSans-54\"/>\r\n      </defs>\r\n      <g transform=\"translate(13.5625 152.664673)scale(0.1 -0.1)\">\r\n       <use xlink:href=\"#DejaVuSans-54\"/>\r\n      </g>\r\n     </g>\r\n    </g>\r\n    <g id=\"ytick_4\">\r\n     <g id=\"line2d_9\">\r\n      <g>\r\n       <use style=\"stroke:#000000;stroke-width:0.8;\" x=\"26.925\" xlink:href=\"#m32c8315a62\" y=\"122.509091\"/>\r\n      </g>\r\n     </g>\r\n     <g id=\"text_9\">\r\n      <!-- 8 -->\r\n      <defs>\r\n       <path d=\"M 31.78125 34.625 \r\nQ 24.75 34.625 20.71875 30.859375 \r\nQ 16.703125 27.09375 16.703125 20.515625 \r\nQ 16.703125 13.921875 20.71875 10.15625 \r\nQ 24.75 6.390625 31.78125 6.390625 \r\nQ 38.8125 6.390625 42.859375 10.171875 \r\nQ 46.921875 13.96875 46.921875 20.515625 \r\nQ 46.921875 27.09375 42.890625 30.859375 \r\nQ 38.875 34.625 31.78125 34.625 \r\nz\r\nM 21.921875 38.8125 \r\nQ 15.578125 40.375 12.03125 44.71875 \r\nQ 8.5 49.078125 8.5 55.328125 \r\nQ 8.5 64.0625 14.71875 69.140625 \r\nQ 20.953125 74.21875 31.78125 74.21875 \r\nQ 42.671875 74.21875 48.875 69.140625 \r\nQ 55.078125 64.0625 55.078125 55.328125 \r\nQ 55.078125 49.078125 51.53125 44.71875 \r\nQ 48 40.375 41.703125 38.8125 \r\nQ 48.828125 37.15625 52.796875 32.3125 \r\nQ 56.78125 27.484375 56.78125 20.515625 \r\nQ 56.78125 9.90625 50.3125 4.234375 \r\nQ 43.84375 -1.421875 31.78125 -1.421875 \r\nQ 19.734375 -1.421875 13.25 4.234375 \r\nQ 6.78125 9.90625 6.78125 20.515625 \r\nQ 6.78125 27.484375 10.78125 32.3125 \r\nQ 14.796875 37.15625 21.921875 38.8125 \r\nz\r\nM 18.3125 54.390625 \r\nQ 18.3125 48.734375 21.84375 45.5625 \r\nQ 25.390625 42.390625 31.78125 42.390625 \r\nQ 38.140625 42.390625 41.71875 45.5625 \r\nQ 45.3125 48.734375 45.3125 54.390625 \r\nQ 45.3125 60.0625 41.71875 63.234375 \r\nQ 38.140625 66.40625 31.78125 66.40625 \r\nQ 25.390625 66.40625 21.84375 63.234375 \r\nQ 18.3125 60.0625 18.3125 54.390625 \r\nz\r\n\" id=\"DejaVuSans-56\"/>\r\n      </defs>\r\n      <g transform=\"translate(13.5625 126.30831)scale(0.1 -0.1)\">\r\n       <use xlink:href=\"#DejaVuSans-56\"/>\r\n      </g>\r\n     </g>\r\n    </g>\r\n    <g id=\"ytick_5\">\r\n     <g id=\"line2d_10\">\r\n      <g>\r\n       <use style=\"stroke:#000000;stroke-width:0.8;\" x=\"26.925\" xlink:href=\"#m32c8315a62\" y=\"96.152727\"/>\r\n      </g>\r\n     </g>\r\n     <g id=\"text_10\">\r\n      <!-- 10 -->\r\n      <g transform=\"translate(7.2 99.951946)scale(0.1 -0.1)\">\r\n       <use xlink:href=\"#DejaVuSans-49\"/>\r\n       <use x=\"63.623047\" xlink:href=\"#DejaVuSans-48\"/>\r\n      </g>\r\n     </g>\r\n    </g>\r\n    <g id=\"ytick_6\">\r\n     <g id=\"line2d_11\">\r\n      <g>\r\n       <use style=\"stroke:#000000;stroke-width:0.8;\" x=\"26.925\" xlink:href=\"#m32c8315a62\" y=\"69.796364\"/>\r\n      </g>\r\n     </g>\r\n     <g id=\"text_11\">\r\n      <!-- 12 -->\r\n      <g transform=\"translate(7.2 73.595582)scale(0.1 -0.1)\">\r\n       <use xlink:href=\"#DejaVuSans-49\"/>\r\n       <use x=\"63.623047\" xlink:href=\"#DejaVuSans-50\"/>\r\n      </g>\r\n     </g>\r\n    </g>\r\n    <g id=\"ytick_7\">\r\n     <g id=\"line2d_12\">\r\n      <g>\r\n       <use style=\"stroke:#000000;stroke-width:0.8;\" x=\"26.925\" xlink:href=\"#m32c8315a62\" y=\"43.44\"/>\r\n      </g>\r\n     </g>\r\n     <g id=\"text_12\">\r\n      <!-- 14 -->\r\n      <g transform=\"translate(7.2 47.239219)scale(0.1 -0.1)\">\r\n       <use xlink:href=\"#DejaVuSans-49\"/>\r\n       <use x=\"63.623047\" xlink:href=\"#DejaVuSans-52\"/>\r\n      </g>\r\n     </g>\r\n    </g>\r\n    <g id=\"ytick_8\">\r\n     <g id=\"line2d_13\">\r\n      <g>\r\n       <use style=\"stroke:#000000;stroke-width:0.8;\" x=\"26.925\" xlink:href=\"#m32c8315a62\" y=\"17.083636\"/>\r\n      </g>\r\n     </g>\r\n     <g id=\"text_13\">\r\n      <!-- 16 -->\r\n      <g transform=\"translate(7.2 20.882855)scale(0.1 -0.1)\">\r\n       <use xlink:href=\"#DejaVuSans-49\"/>\r\n       <use x=\"63.623047\" xlink:href=\"#DejaVuSans-54\"/>\r\n      </g>\r\n     </g>\r\n    </g>\r\n   </g>\r\n   <g id=\"patch_3\">\r\n    <path d=\"M 26.925 224.64 \r\nL 26.925 7.2 \r\n\" style=\"fill:none;stroke:#000000;stroke-linecap:square;stroke-linejoin:miter;stroke-width:0.8;\"/>\r\n   </g>\r\n   <g id=\"patch_4\">\r\n    <path d=\"M 361.725 224.64 \r\nL 361.725 7.2 \r\n\" style=\"fill:none;stroke:#000000;stroke-linecap:square;stroke-linejoin:miter;stroke-width:0.8;\"/>\r\n   </g>\r\n   <g id=\"patch_5\">\r\n    <path d=\"M 26.925 224.64 \r\nL 361.725 224.64 \r\n\" style=\"fill:none;stroke:#000000;stroke-linecap:square;stroke-linejoin:miter;stroke-width:0.8;\"/>\r\n   </g>\r\n   <g id=\"patch_6\">\r\n    <path d=\"M 26.925 7.2 \r\nL 361.725 7.2 \r\n\" style=\"fill:none;stroke:#000000;stroke-linecap:square;stroke-linejoin:miter;stroke-width:0.8;\"/>\r\n   </g>\r\n  </g>\r\n </g>\r\n <defs>\r\n  <clipPath id=\"pe1fb353f03\">\r\n   <rect height=\"217.44\" width=\"334.8\" x=\"26.925\" y=\"7.2\"/>\r\n  </clipPath>\r\n </defs>\r\n</svg>\r\n",
      "image/png": "[encoded data removed]"
     },
     "metadata": {
      "needs_background": "light"
     }
    }
   ],
   "source": [
    "if __name__ == '__main__':\n",
    "    run()"
   ]
  }
 ],
 "metadata": {
  "language_info": {
   "codemirror_mode": {
    "name": "ipython",
    "version": 3
   },
   "file_extension": ".py",
   "mimetype": "text/x-python",
   "name": "python",
   "nbconvert_exporter": "python",
   "pygments_lexer": "ipython3",
   "version": "3.7.4-final"
  },
  "orig_nbformat": 2,
  "kernelspec": {
   "name": "python_defaultSpec_1594612963919",
   "display_name": "Python 3.8.3 32-bit"
  }
 },
 "nbformat": 4,
 "nbformat_minor": 2
}